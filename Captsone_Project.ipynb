{
  "nbformat": 4,
  "nbformat_minor": 0,
  "metadata": {
    "colab": {
      "provenance": [],
      "authorship_tag": "ABX9TyPX/hUifqsN0lK4RMX2bTEA",
      "include_colab_link": true
    },
    "kernelspec": {
      "name": "python3",
      "display_name": "Python 3"
    },
    "language_info": {
      "name": "python"
    }
  },
  "cells": [
    {
      "cell_type": "markdown",
      "metadata": {
        "id": "view-in-github",
        "colab_type": "text"
      },
      "source": [
        "<a href=\"https://colab.research.google.com/github/Fizryfu/ML_HA/blob/main/Captsone_Project.ipynb\" target=\"_parent\"><img src=\"https://colab.research.google.com/assets/colab-badge.svg\" alt=\"Open In Colab\"/></a>"
      ]
    },
    {
      "cell_type": "code",
      "source": [
        "import pandas as pd\n",
        "import numpy as np\n",
        "import matplotlib.pyplot as plt\n",
        "import seaborn as sns\n",
        "from sklearn.model_selection import train_test_split\n",
        "from sklearn.metrics import classification_report, confusion_matrix, f1_score\n",
        "import re\n",
        "!pip install emoji\n",
        "from transformers import RobertaForSequenceClassification, RobertaTokenizer, Trainer, TrainingArguments\n",
        "from transformers import EarlyStoppingCallback\n",
        "import torch\n",
        "from torch.utils.data import Dataset, DataLoader\n",
        "import warnings\n",
        "warnings.filterwarnings('ignore')"
      ],
      "metadata": {
        "colab": {
          "base_uri": "https://localhost:8080/"
        },
        "id": "qodJ9DPc4IsI",
        "outputId": "99f0425d-62c1-49a0-88a0-5439e3fdf1c3"
      },
      "execution_count": 2,
      "outputs": [
        {
          "output_type": "stream",
          "name": "stdout",
          "text": [
            "Collecting emoji\n",
            "  Downloading emoji-2.14.1-py3-none-any.whl.metadata (5.7 kB)\n",
            "Downloading emoji-2.14.1-py3-none-any.whl (590 kB)\n",
            "\u001b[?25l   \u001b[90m━━━━━━━━━━━━━━━━━━━━━━━━━━━━━━━━━━━━━━━━\u001b[0m \u001b[32m0.0/590.6 kB\u001b[0m \u001b[31m?\u001b[0m eta \u001b[36m-:--:--\u001b[0m\r\u001b[2K   \u001b[91m━━━━━━━━━━━━━━━━━━━\u001b[0m\u001b[90m╺\u001b[0m\u001b[90m━━━━━━━━━━━━━━━━━━━━\u001b[0m \u001b[32m286.7/590.6 kB\u001b[0m \u001b[31m8.3 MB/s\u001b[0m eta \u001b[36m0:00:01\u001b[0m\r\u001b[2K   \u001b[90m━━━━━━━━━━━━━━━━━━━━━━━━━━━━━━━━━━━━━━━━\u001b[0m \u001b[32m590.6/590.6 kB\u001b[0m \u001b[31m9.7 MB/s\u001b[0m eta \u001b[36m0:00:00\u001b[0m\n",
            "\u001b[?25hInstalling collected packages: emoji\n",
            "Successfully installed emoji-2.14.1\n"
          ]
        }
      ]
    },
    {
      "cell_type": "markdown",
      "source": [
        "# Project\n"
      ],
      "metadata": {
        "id": "xbb4xQnP229H"
      }
    },
    {
      "cell_type": "code",
      "execution_count": 3,
      "metadata": {
        "id": "vpOFLHh4Zw76",
        "colab": {
          "base_uri": "https://localhost:8080/",
          "height": 90
        },
        "outputId": "8bf2aa2f-e4b3-4edc-d6c6-f19af5f1614b"
      },
      "outputs": [
        {
          "output_type": "display_data",
          "data": {
            "text/plain": [
              "<IPython.core.display.HTML object>"
            ],
            "text/html": [
              "\n",
              "     <input type=\"file\" id=\"files-a3d6e8da-3a92-4d51-a7b5-9c27d9c61507\" name=\"files[]\" multiple disabled\n",
              "        style=\"border:none\" />\n",
              "     <output id=\"result-a3d6e8da-3a92-4d51-a7b5-9c27d9c61507\">\n",
              "      Upload widget is only available when the cell has been executed in the\n",
              "      current browser session. Please rerun this cell to enable.\n",
              "      </output>\n",
              "      <script>// Copyright 2017 Google LLC\n",
              "//\n",
              "// Licensed under the Apache License, Version 2.0 (the \"License\");\n",
              "// you may not use this file except in compliance with the License.\n",
              "// You may obtain a copy of the License at\n",
              "//\n",
              "//      http://www.apache.org/licenses/LICENSE-2.0\n",
              "//\n",
              "// Unless required by applicable law or agreed to in writing, software\n",
              "// distributed under the License is distributed on an \"AS IS\" BASIS,\n",
              "// WITHOUT WARRANTIES OR CONDITIONS OF ANY KIND, either express or implied.\n",
              "// See the License for the specific language governing permissions and\n",
              "// limitations under the License.\n",
              "\n",
              "/**\n",
              " * @fileoverview Helpers for google.colab Python module.\n",
              " */\n",
              "(function(scope) {\n",
              "function span(text, styleAttributes = {}) {\n",
              "  const element = document.createElement('span');\n",
              "  element.textContent = text;\n",
              "  for (const key of Object.keys(styleAttributes)) {\n",
              "    element.style[key] = styleAttributes[key];\n",
              "  }\n",
              "  return element;\n",
              "}\n",
              "\n",
              "// Max number of bytes which will be uploaded at a time.\n",
              "const MAX_PAYLOAD_SIZE = 100 * 1024;\n",
              "\n",
              "function _uploadFiles(inputId, outputId) {\n",
              "  const steps = uploadFilesStep(inputId, outputId);\n",
              "  const outputElement = document.getElementById(outputId);\n",
              "  // Cache steps on the outputElement to make it available for the next call\n",
              "  // to uploadFilesContinue from Python.\n",
              "  outputElement.steps = steps;\n",
              "\n",
              "  return _uploadFilesContinue(outputId);\n",
              "}\n",
              "\n",
              "// This is roughly an async generator (not supported in the browser yet),\n",
              "// where there are multiple asynchronous steps and the Python side is going\n",
              "// to poll for completion of each step.\n",
              "// This uses a Promise to block the python side on completion of each step,\n",
              "// then passes the result of the previous step as the input to the next step.\n",
              "function _uploadFilesContinue(outputId) {\n",
              "  const outputElement = document.getElementById(outputId);\n",
              "  const steps = outputElement.steps;\n",
              "\n",
              "  const next = steps.next(outputElement.lastPromiseValue);\n",
              "  return Promise.resolve(next.value.promise).then((value) => {\n",
              "    // Cache the last promise value to make it available to the next\n",
              "    // step of the generator.\n",
              "    outputElement.lastPromiseValue = value;\n",
              "    return next.value.response;\n",
              "  });\n",
              "}\n",
              "\n",
              "/**\n",
              " * Generator function which is called between each async step of the upload\n",
              " * process.\n",
              " * @param {string} inputId Element ID of the input file picker element.\n",
              " * @param {string} outputId Element ID of the output display.\n",
              " * @return {!Iterable<!Object>} Iterable of next steps.\n",
              " */\n",
              "function* uploadFilesStep(inputId, outputId) {\n",
              "  const inputElement = document.getElementById(inputId);\n",
              "  inputElement.disabled = false;\n",
              "\n",
              "  const outputElement = document.getElementById(outputId);\n",
              "  outputElement.innerHTML = '';\n",
              "\n",
              "  const pickedPromise = new Promise((resolve) => {\n",
              "    inputElement.addEventListener('change', (e) => {\n",
              "      resolve(e.target.files);\n",
              "    });\n",
              "  });\n",
              "\n",
              "  const cancel = document.createElement('button');\n",
              "  inputElement.parentElement.appendChild(cancel);\n",
              "  cancel.textContent = 'Cancel upload';\n",
              "  const cancelPromise = new Promise((resolve) => {\n",
              "    cancel.onclick = () => {\n",
              "      resolve(null);\n",
              "    };\n",
              "  });\n",
              "\n",
              "  // Wait for the user to pick the files.\n",
              "  const files = yield {\n",
              "    promise: Promise.race([pickedPromise, cancelPromise]),\n",
              "    response: {\n",
              "      action: 'starting',\n",
              "    }\n",
              "  };\n",
              "\n",
              "  cancel.remove();\n",
              "\n",
              "  // Disable the input element since further picks are not allowed.\n",
              "  inputElement.disabled = true;\n",
              "\n",
              "  if (!files) {\n",
              "    return {\n",
              "      response: {\n",
              "        action: 'complete',\n",
              "      }\n",
              "    };\n",
              "  }\n",
              "\n",
              "  for (const file of files) {\n",
              "    const li = document.createElement('li');\n",
              "    li.append(span(file.name, {fontWeight: 'bold'}));\n",
              "    li.append(span(\n",
              "        `(${file.type || 'n/a'}) - ${file.size} bytes, ` +\n",
              "        `last modified: ${\n",
              "            file.lastModifiedDate ? file.lastModifiedDate.toLocaleDateString() :\n",
              "                                    'n/a'} - `));\n",
              "    const percent = span('0% done');\n",
              "    li.appendChild(percent);\n",
              "\n",
              "    outputElement.appendChild(li);\n",
              "\n",
              "    const fileDataPromise = new Promise((resolve) => {\n",
              "      const reader = new FileReader();\n",
              "      reader.onload = (e) => {\n",
              "        resolve(e.target.result);\n",
              "      };\n",
              "      reader.readAsArrayBuffer(file);\n",
              "    });\n",
              "    // Wait for the data to be ready.\n",
              "    let fileData = yield {\n",
              "      promise: fileDataPromise,\n",
              "      response: {\n",
              "        action: 'continue',\n",
              "      }\n",
              "    };\n",
              "\n",
              "    // Use a chunked sending to avoid message size limits. See b/62115660.\n",
              "    let position = 0;\n",
              "    do {\n",
              "      const length = Math.min(fileData.byteLength - position, MAX_PAYLOAD_SIZE);\n",
              "      const chunk = new Uint8Array(fileData, position, length);\n",
              "      position += length;\n",
              "\n",
              "      const base64 = btoa(String.fromCharCode.apply(null, chunk));\n",
              "      yield {\n",
              "        response: {\n",
              "          action: 'append',\n",
              "          file: file.name,\n",
              "          data: base64,\n",
              "        },\n",
              "      };\n",
              "\n",
              "      let percentDone = fileData.byteLength === 0 ?\n",
              "          100 :\n",
              "          Math.round((position / fileData.byteLength) * 100);\n",
              "      percent.textContent = `${percentDone}% done`;\n",
              "\n",
              "    } while (position < fileData.byteLength);\n",
              "  }\n",
              "\n",
              "  // All done.\n",
              "  yield {\n",
              "    response: {\n",
              "      action: 'complete',\n",
              "    }\n",
              "  };\n",
              "}\n",
              "\n",
              "scope.google = scope.google || {};\n",
              "scope.google.colab = scope.google.colab || {};\n",
              "scope.google.colab._files = {\n",
              "  _uploadFiles,\n",
              "  _uploadFilesContinue,\n",
              "};\n",
              "})(self);\n",
              "</script> "
            ]
          },
          "metadata": {}
        },
        {
          "output_type": "stream",
          "name": "stdout",
          "text": [
            "Saving kaggle.json to kaggle.json\n"
          ]
        },
        {
          "output_type": "execute_result",
          "data": {
            "text/plain": [
              "{'kaggle.json': b'{\"username\":\"fizryfuu\",\"key\":\"b92c79d4491d0eadd6cba734c771c083\"}'}"
            ]
          },
          "metadata": {},
          "execution_count": 3
        }
      ],
      "source": [
        "!pip install -q kaggle\n",
        "from google.colab import files\n",
        "files.upload()"
      ]
    },
    {
      "cell_type": "code",
      "source": [
        "!mkdir -p ~/.kaggle\n",
        "!cp kaggle.json ~/.kaggle/\n",
        "!chmod 600 ~/.kaggle/kaggle.json"
      ],
      "metadata": {
        "id": "KieuGs733SAI"
      },
      "execution_count": 4,
      "outputs": []
    },
    {
      "cell_type": "code",
      "source": [
        "!kaggle config view"
      ],
      "metadata": {
        "colab": {
          "base_uri": "https://localhost:8080/"
        },
        "id": "WBdG2B1C3WHQ",
        "outputId": "7b244901-857a-444e-c4b5-50b0b5469244"
      },
      "execution_count": 5,
      "outputs": [
        {
          "output_type": "stream",
          "name": "stdout",
          "text": [
            "Configuration values from /root/.kaggle\n",
            "- username: fizryfuu\n",
            "- path: None\n",
            "- proxy: None\n",
            "- competition: None\n"
          ]
        }
      ]
    },
    {
      "cell_type": "code",
      "source": [
        "# Search for Bitcoin datasets on Kaggle\n",
        "!kaggle datasets list -s \"bitcoin tweets\""
      ],
      "metadata": {
        "colab": {
          "base_uri": "https://localhost:8080/"
        },
        "id": "9ySXQxbO3eFB",
        "outputId": "5e9bc501-4970-4217-9e60-eccdcf54695c"
      },
      "execution_count": 6,
      "outputs": [
        {
          "output_type": "stream",
          "name": "stdout",
          "text": [
            "ref                                                              title                                                     size  lastUpdated                 downloadCount  voteCount  usabilityRating  \n",
            "---------------------------------------------------------------  --------------------------------------------------  ----------  --------------------------  -------------  ---------  ---------------  \n",
            "kaushiksuresh147/bitcoin-tweets                                  Bitcoin Tweets                                       728456658  2023-03-10 15:55:30.037000          13023        196  1.0              \n",
            "alaix14/bitcoin-tweets-20160101-to-20190329                      Bitcoin tweets - 16M tweets                         1700101813  2019-11-23 16:39:11.020000           5720        101  0.9705882        \n",
            "paul92s/bitcoin-tweets-14m                                       Bitcoin Tweets 1.4M                                  107760855  2018-08-04 15:47:51.353000           1252         24  0.8235294        \n",
            "kevsde/bitcoin-tweets                                            Bitcoin tweets                                       108716102  2022-06-25 11:38:02.213000            266         14  1.0              \n",
            "gauravduttakiit/bitcoin-tweets-16m-tweets-with-sentiment-tagged  Bitcoin tweets - Market Sentiment                   1182141602  2021-08-29 23:32:53.737000           1947         41  0.88235295       \n",
            "skularat/bitcoin-tweets                                          Bitcoin Tweets                                         3633008  2018-03-25 02:25:55.290000           1383         17  0.5294118        \n",
            "jaimebadiola/bitcoin-tweets-and-price                            Bitcoin 17.7 million Tweets and price                  1584871  2019-06-15 11:14:46.393000           1908         30  0.9705882        \n",
            "andradaolteanu/all-elon-musks-tweets                             All Elon Musk's Tweets                                 1506420  2021-04-17 13:58:26.903000           2318         61  0.9411765        \n",
            "sujaykapadnis/bitcoin-tweets                                     Bitcoin tweets[Sentiment Analysis]                     7185829  2023-11-23 05:01:33.633000            288          8  0.9411765        \n",
            "sushilkumarinfo/bitcoin-data-from-9thapr2014-to-30thdec2022      Bitcoin Data from 9th-Apr-2014 to 30th-Dec-2022 ⚒️      198933  2022-12-30 18:11:03.073000            719         33  1.0              \n",
            "augiedoebling/bitcoin-tweets                                     #Bitcoin Tweets                                      363444579  2018-05-06 20:53:34.680000            377          8  0.3529412        \n",
            "kodamacodes/2022-january-bitcoin-tweets                          2022 January Bitcoin Tweets                         2191464119  2022-02-21 06:53:05.670000            138          6  0.8235294        \n",
            "legend99/bitcoin-tweets                                          Bitcoin Tweets 2023                                      15563  2023-11-04 07:42:55.550000             60          3  0.9411765        \n",
            "muhammedabdulazeem/bitcoin-price-prediction                      Bitcoin Price Prediction                               1083624  2021-06-14 12:29:10.623000            975         17  0.9411765        \n",
            "krairy/bitcoin-daily-price-and-vol-jul-2010-mar-2024             Bitcoin daily (Jul 2010-Mar 2024)                        87096  2024-03-20 09:40:03.840000            956         18  0.88235295       \n",
            "jackksoncsie/twitter-dataset-keywords-likes-and-tweets           Famous Words Twitter Dataset                           7436888  2023-05-30 04:22:39.227000           1003         38  1.0              \n",
            "leoth9/crypto-tweets                                             Crypto Tweets                                          1252749  2022-11-30 13:20:18.750000            963         18  1.0              \n",
            "hiraddolatzadeh/bitcoin-tweets-2021-2022                         English Tweets Mentioning Bitcoin (2021-2022)       1763327500  2022-11-21 08:22:08.047000            407          5  0.7647059        \n",
            "jaimebadiola/177-million-bitcoin-tweets                          17.7 million bitcoin tweets                         1705392561  2020-11-01 14:48:10                   335          7  0.25             \n",
            "gautamchettiar/bitcoin-sentiment-analysis-twitter-data           Bitcoin Sentiment Analysis | Twitter Data            192139671  2022-11-07 19:48:58.363000            893         14  0.9411765        \n"
          ]
        }
      ]
    },
    {
      "cell_type": "code",
      "source": [
        "# Download the specific dataset (replace with your actual dataset)\n",
        "!kaggle datasets download -d kaushiksuresh147/bitcoin-tweets"
      ],
      "metadata": {
        "colab": {
          "base_uri": "https://localhost:8080/"
        },
        "id": "ExKNoUuT38Z8",
        "outputId": "b5d92371-d969-450c-eeeb-0935400d592f"
      },
      "execution_count": 7,
      "outputs": [
        {
          "output_type": "stream",
          "name": "stdout",
          "text": [
            "Dataset URL: https://www.kaggle.com/datasets/kaushiksuresh147/bitcoin-tweets\n",
            "License(s): CC0-1.0\n"
          ]
        }
      ]
    },
    {
      "cell_type": "code",
      "source": [
        "# Unzip the dataset (adjust filename if needed)\n",
        "!unzip bitcoin-tweets.zip -d bitcoin_data"
      ],
      "metadata": {
        "colab": {
          "base_uri": "https://localhost:8080/"
        },
        "id": "NeZgnIQ73_dZ",
        "outputId": "f7b428c5-fe9d-404b-d742-a59a94de4a4c"
      },
      "execution_count": 8,
      "outputs": [
        {
          "output_type": "stream",
          "name": "stdout",
          "text": [
            "Archive:  bitcoin-tweets.zip\n",
            "  inflating: bitcoin_data/Bitcoin_tweets.csv  \n",
            "  inflating: bitcoin_data/Bitcoin_tweets_dataset_2.csv  \n"
          ]
        }
      ]
    },
    {
      "cell_type": "markdown",
      "source": [
        "# Dataset Cleaning\n"
      ],
      "metadata": {
        "id": "YuJIBdn04dhR"
      }
    },
    {
      "cell_type": "code",
      "source": [
        "import re\n",
        "from tqdm import tqdm\n",
        "import pyarrow as pa\n",
        "import pyarrow.parquet as pq\n",
        "import emoji\n",
        "from bs4 import BeautifulSoup\n",
        "import unicodedata"
      ],
      "metadata": {
        "id": "DD1I98o4JMRZ"
      },
      "execution_count": 9,
      "outputs": []
    },
    {
      "cell_type": "code",
      "source": [
        "def load_data_in_chunks(file_path, chunksize=10000, output_parquet=\"cleaned_data.parquet\"):\n",
        "    \"\"\"\n",
        "    Robust CSV reader with error handling for malformed files\n",
        "    \"\"\"\n",
        "    first_chunk = True\n",
        "\n",
        "    # Use Python's CSV reader with error handling\n",
        "    try:\n",
        "        # Try reading with standard parameters first\n",
        "        chunk_iter = pd.read_csv(\n",
        "            file_path,\n",
        "            chunksize=chunksize,\n",
        "            engine='python',\n",
        "            on_bad_lines='warn',\n",
        "            quoting=3  # QUOTE_NONE\n",
        "        )\n",
        "\n",
        "        for chunk in tqdm(chunk_iter, desc=\"Processing chunks\"):\n",
        "            try:\n",
        "                # Skip empty chunks\n",
        "                if len(chunk) == 0:\n",
        "                    continue\n",
        "\n",
        "                cleaned_chunk = preprocess_tweets(chunk)\n",
        "                table = pa.Table.from_pandas(cleaned_chunk)\n",
        "\n",
        "                if first_chunk:\n",
        "                    pq.write_table(table, output_parquet)\n",
        "                    first_chunk = False\n",
        "                else:\n",
        "                    with pq.ParquetWriter(output_parquet, table.schema) as writer:\n",
        "                        writer.write_table(table)\n",
        "\n",
        "            except Exception as e:\n",
        "                print(f\"Error processing chunk: {e}\")\n",
        "                continue\n",
        "\n",
        "    except Exception as e:\n",
        "        print(f\"Fatal error reading file: {e}\")\n",
        "        return False\n",
        "\n",
        "    print(f\"Successfully processed and saved to {output_parquet}\")\n",
        "    return True\n",
        "\n",
        "def preprocess_tweets(df):\n",
        "    \"\"\"\n",
        "    Enhanced preprocessing with robust error handling\n",
        "    \"\"\"\n",
        "    # Safely select columns\n",
        "    available_cols = [col for col in ['text', 'hashtags', 'user_followers', 'date', 'is_retweet']\n",
        "                     if col in df.columns]\n",
        "    df = df[available_cols].copy()\n",
        "\n",
        "    # Initialize missing columns\n",
        "    for col in ['text', 'hashtags', 'is_retweet']:\n",
        "        if col not in df.columns:\n",
        "            df[col] = \"\" if col == 'text' else [] if col == 'hashtags' else False\n",
        "\n",
        "    # Convert is_retweet safely\n",
        "    df['is_retweet'] = pd.to_numeric(df['is_retweet'], errors='coerce').fillna(0).astype(bool)\n",
        "\n",
        "    # Text processing with error handling\n",
        "    df['text'] = df['text'].astype(str).apply(\n",
        "        lambda x: BeautifulSoup(x, 'html.parser').get_text() if pd.notna(x) else \"\"\n",
        "    )\n",
        "\n",
        "    df['text'] = df['text'].apply(\n",
        "        lambda x: unicodedata.normalize('NFKD', x) if pd.notna(x) else \"\"\n",
        "    )\n",
        "\n",
        "    df['text'] = df['text'].apply(process_emojis)\n",
        "\n",
        "    df['text'] = df['text'].apply(\n",
        "        lambda x: re.sub(r'http\\S+|@\\w+|[^\\w\\s#\\U0001F300-\\U0001F6FF]', '', x)\n",
        "    )\n",
        "\n",
        "    # Hashtags processing\n",
        "    df['hashtags'] = df['hashtags'].apply(\n",
        "        lambda x: safe_eval_hashtags(x) if pd.notna(x) else []\n",
        "    )\n",
        "\n",
        "    # Filter retweets if column exists\n",
        "    if 'is_retweet' in df.columns:\n",
        "        df = df[~df['is_retweet']].drop(columns=['is_retweet'], errors='ignore')\n",
        "\n",
        "    return df\n",
        "\n",
        "def safe_eval_hashtags(x):\n",
        "    \"\"\"Safely evaluate hashtag strings\"\"\"\n",
        "    try:\n",
        "        if isinstance(x, str) and x.startswith('['):\n",
        "            return eval(x)\n",
        "        return []\n",
        "    except:\n",
        "        return []\n",
        "\n",
        "def process_emojis(text):\n",
        "    \"\"\"Robust emoji processing\"\"\"\n",
        "    if not isinstance(text, str):\n",
        "        return \"\"\n",
        "\n",
        "    emoticon_map = {\n",
        "        r':\\)|:-\\)|\\(-:|\\(:' : '[emoticon:happy]',\n",
        "        r':\\(|:-\\(|\\)-:|\\):' : '[emoticon:sad]',\n",
        "        r';\\)|;-\\)': '[emoticon:wink]',\n",
        "        r':D|:-D': '[emoticon:laugh]',\n",
        "    }\n",
        "\n",
        "    for pattern, label in emoticon_map.items():\n",
        "        text = re.sub(pattern, label, text)\n",
        "\n",
        "    try:\n",
        "        return emoji.demojize(text, delimiters=(\"[emoji:\", \"]\"))\n",
        "    except:\n",
        "        return text\n",
        "\n",
        "# Usage:\n",
        "success = load_data_in_chunks(\n",
        "    \"Bitcoin_tweets.csv\",\n",
        "    chunksize=10000,\n",
        "    output_parquet=\"bitcoin_cleaned.parquet\"\n",
        ")"
      ],
      "metadata": {
        "colab": {
          "base_uri": "https://localhost:8080/"
        },
        "id": "T48gyeSkdKlZ",
        "outputId": "985ef5bf-2f7a-44cd-9dce-7eba17fc2395"
      },
      "execution_count": 10,
      "outputs": [
        {
          "output_type": "stream",
          "name": "stdout",
          "text": [
            "Fatal error reading file: [Errno 2] No such file or directory: 'Bitcoin_tweets.csv'\n"
          ]
        }
      ]
    },
    {
      "cell_type": "code",
      "source": [
        "load_data_in_chunks(\"/content/bitcoin_data/Bitcoin_tweets.csv\", chunksize=10000, output_parquet=\"bitcoin_cleaned.parquet\")"
      ],
      "metadata": {
        "colab": {
          "base_uri": "https://localhost:8080/"
        },
        "id": "C33fSHETdwdl",
        "outputId": "9cabb508-7a6b-4eea-b4d3-eee94c097e1e"
      },
      "execution_count": 12,
      "outputs": [
        {
          "output_type": "stream",
          "name": "stderr",
          "text": [
            "Processing chunks: 2241it [22:18,  1.67it/s]"
          ]
        },
        {
          "output_type": "stream",
          "name": "stdout",
          "text": [
            "Successfully processed and saved to bitcoin_cleaned.parquet\n"
          ]
        },
        {
          "output_type": "stream",
          "name": "stderr",
          "text": [
            "\n"
          ]
        },
        {
          "output_type": "execute_result",
          "data": {
            "text/plain": [
              "True"
            ]
          },
          "metadata": {},
          "execution_count": 12
        }
      ]
    },
    {
      "cell_type": "code",
      "source": [
        "df = pd.read_parquet(\"bitcoin_cleaned.parquet\")\n",
        "\n",
        "print(\"Basic Stats:\")\n",
        "print(df.describe())"
      ],
      "metadata": {
        "colab": {
          "base_uri": "https://localhost:8080/"
        },
        "id": "9Dd1AzfzH5La",
        "outputId": "7aec592f-26c5-499a-cf7e-b228006564d6"
      },
      "execution_count": 14,
      "outputs": [
        {
          "output_type": "stream",
          "name": "stdout",
          "text": [
            "Basic Stats:\n",
            "        text hashtags user_followers   date\n",
            "count   2650     2650            109     25\n",
            "unique    14     2650             51     17\n",
            "top     None       []      'altcoin'  False\n",
            "freq    2633        1             30      8\n"
          ]
        }
      ]
    },
    {
      "cell_type": "code",
      "source": [],
      "metadata": {
        "id": "qp95lOHUIHx8"
      },
      "execution_count": null,
      "outputs": []
    }
  ]
}